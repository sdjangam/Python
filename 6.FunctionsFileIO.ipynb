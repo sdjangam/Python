{
 "cells": [
  {
   "cell_type": "markdown",
   "metadata": {},
   "source": [
    "## Functions"
   ]
  },
  {
   "cell_type": "code",
   "execution_count": 44,
   "metadata": {
    "collapsed": true
   },
   "outputs": [],
   "source": [
    "from IPython.core.interactiveshell import InteractiveShell\n",
    "InteractiveShell.ast_node_interactivity = \"all\"\n",
    "def my_function(x, y, z=1.5):\n",
    "    if z > 1:\n",
    "        return z * (x + y)\n",
    "    else:\n",
    "        return z / (x + y)"
   ]
  },
  {
   "cell_type": "code",
   "execution_count": 17,
   "metadata": {},
   "outputs": [
    {
     "data": {
      "text/plain": [
       "0.06363636363636363"
      ]
     },
     "execution_count": 17,
     "metadata": {},
     "output_type": "execute_result"
    },
    {
     "data": {
      "text/plain": [
       "0.06363636363636363"
      ]
     },
     "execution_count": 17,
     "metadata": {},
     "output_type": "execute_result"
    },
    {
     "data": {
      "text/plain": [
       "35.49"
      ]
     },
     "execution_count": 17,
     "metadata": {},
     "output_type": "execute_result"
    },
    {
     "data": {
      "text/plain": [
       "45.0"
      ]
     },
     "execution_count": 17,
     "metadata": {},
     "output_type": "execute_result"
    }
   ],
   "source": [
    "my_function(5, 6, z=0.7)\n",
    "my_function(y=6, x=5, z=0.7)\n",
    "my_function(3.14, 7, 3.5)\n",
    "my_function(10, 20)"
   ]
  },
  {
   "cell_type": "code",
   "execution_count": 58,
   "metadata": {
    "scrolled": true
   },
   "outputs": [
    {
     "name": "stdout",
     "output_type": "stream",
     "text": [
      "Output is: \n",
      "10\n",
      "Output is: \n",
      "70\n",
      "60\n",
      "50\n"
     ]
    }
   ],
   "source": [
    "def printinfo( arg1, *vartuple ):\n",
    "   \"This prints a variable passed arguments\"\n",
    "   print (\"Output is: \")\n",
    "   print (arg1)\n",
    "   for var in vartuple:\n",
    "      print (var)\n",
    "   return\n",
    "\n",
    "# Now you can call printinfo function\n",
    "printinfo( 10 )\n",
    "printinfo( 70, 60, 50 )"
   ]
  },
  {
   "cell_type": "markdown",
   "metadata": {},
   "source": [
    "### Namespaces, Scope, and Local Functions"
   ]
  },
  {
   "cell_type": "code",
   "execution_count": 18,
   "metadata": {
    "collapsed": true
   },
   "outputs": [],
   "source": [
    "def func():\n",
    "    a = []\n",
    "    for i in range(5):\n",
    "        a.append(i)"
   ]
  },
  {
   "cell_type": "code",
   "execution_count": 19,
   "metadata": {},
   "outputs": [
    {
     "data": {
      "text/plain": [
       "[0, 1, 2, 3, 4]"
      ]
     },
     "execution_count": 19,
     "metadata": {},
     "output_type": "execute_result"
    }
   ],
   "source": [
    "a = []\n",
    "def func():\n",
    "    for i in range(5):\n",
    "        a.append(i)\n",
    "func()\n",
    "a"
   ]
  },
  {
   "cell_type": "code",
   "execution_count": 20,
   "metadata": {},
   "outputs": [
    {
     "name": "stdout",
     "output_type": "stream",
     "text": [
      "None\n",
      "[1, 2]\n"
     ]
    }
   ],
   "source": [
    "a = None\n",
    "def bind_a_variable1():\n",
    "    a = [1,2]\n",
    "bind_a_variable1()\n",
    "print(a)\n",
    "def bind_a_variable2():\n",
    "    global a\n",
    "    a = [1,2]\n",
    "bind_a_variable2()\n",
    "print(a)"
   ]
  },
  {
   "cell_type": "code",
   "execution_count": 175,
   "metadata": {},
   "outputs": [
    {
     "name": "stdout",
     "output_type": "stream",
     "text": [
      "2000\n"
     ]
    },
    {
     "ename": "UnboundLocalError",
     "evalue": "local variable 'Money' referenced before assignment",
     "output_type": "error",
     "traceback": [
      "\u001b[1;31m---------------------------------------------------------------------------\u001b[0m",
      "\u001b[1;31mUnboundLocalError\u001b[0m                         Traceback (most recent call last)",
      "\u001b[1;32m<ipython-input-175-58c43837bbd4>\u001b[0m in \u001b[0;36m<module>\u001b[1;34m()\u001b[0m\n\u001b[0;32m      6\u001b[0m \u001b[1;33m\u001b[0m\u001b[0m\n\u001b[0;32m      7\u001b[0m \u001b[0mprint\u001b[0m \u001b[1;33m(\u001b[0m\u001b[0mMoney\u001b[0m\u001b[1;33m)\u001b[0m\u001b[1;33m\u001b[0m\u001b[0m\n\u001b[1;32m----> 8\u001b[1;33m \u001b[0mAddMoney\u001b[0m\u001b[1;33m(\u001b[0m\u001b[1;33m)\u001b[0m\u001b[1;33m\u001b[0m\u001b[0m\n\u001b[0m\u001b[0;32m      9\u001b[0m \u001b[0mprint\u001b[0m \u001b[1;33m(\u001b[0m\u001b[0mMoney\u001b[0m\u001b[1;33m)\u001b[0m\u001b[1;33m\u001b[0m\u001b[0m\n",
      "\u001b[1;32m<ipython-input-175-58c43837bbd4>\u001b[0m in \u001b[0;36mAddMoney\u001b[1;34m()\u001b[0m\n\u001b[0;32m      3\u001b[0m    \u001b[1;31m# Uncomment the following line to fix the code:\u001b[0m\u001b[1;33m\u001b[0m\u001b[1;33m\u001b[0m\u001b[0m\n\u001b[0;32m      4\u001b[0m    \u001b[1;31m# global Money\u001b[0m\u001b[1;33m\u001b[0m\u001b[1;33m\u001b[0m\u001b[0m\n\u001b[1;32m----> 5\u001b[1;33m    \u001b[0mMoney\u001b[0m \u001b[1;33m=\u001b[0m \u001b[0mMoney\u001b[0m \u001b[1;33m+\u001b[0m \u001b[1;36m1\u001b[0m\u001b[1;33m\u001b[0m\u001b[0m\n\u001b[0m\u001b[0;32m      6\u001b[0m \u001b[1;33m\u001b[0m\u001b[0m\n\u001b[0;32m      7\u001b[0m \u001b[0mprint\u001b[0m \u001b[1;33m(\u001b[0m\u001b[0mMoney\u001b[0m\u001b[1;33m)\u001b[0m\u001b[1;33m\u001b[0m\u001b[0m\n",
      "\u001b[1;31mUnboundLocalError\u001b[0m: local variable 'Money' referenced before assignment"
     ]
    }
   ],
   "source": [
    "Money = 2000\n",
    "def AddMoney():\n",
    "   # Uncomment the following line to fix the code:\n",
    "   # global Money\n",
    "   Money = Money + 1\n",
    "\n",
    "print (Money)\n",
    "AddMoney()\n",
    "print (Money)"
   ]
  },
  {
   "cell_type": "markdown",
   "metadata": {},
   "source": [
    "### Returning Multiple Values"
   ]
  },
  {
   "cell_type": "code",
   "execution_count": 1,
   "metadata": {},
   "outputs": [
    {
     "name": "stdout",
     "output_type": "stream",
     "text": [
      "5\t6\t7\n"
     ]
    }
   ],
   "source": [
    "def f():\n",
    "    a = 5\n",
    "    b = 6\n",
    "    c = 7\n",
    "    return a, b, c\n",
    "\n",
    "a, b, c = f()\n",
    "print(str(a)+\"\\t\"+str(b)+\"\\t\"+str(c))"
   ]
  },
  {
   "cell_type": "code",
   "execution_count": 2,
   "metadata": {},
   "outputs": [
    {
     "name": "stdout",
     "output_type": "stream",
     "text": [
      "(5, 6, 7)\n"
     ]
    }
   ],
   "source": [
    "return_value = f()\n",
    "print(return_value)"
   ]
  },
  {
   "cell_type": "code",
   "execution_count": 3,
   "metadata": {},
   "outputs": [
    {
     "name": "stdout",
     "output_type": "stream",
     "text": [
      "{'a': 5, 'b': 6, 'c': 7}\n"
     ]
    }
   ],
   "source": [
    "def f():\n",
    "    a = 5\n",
    "    b = 6\n",
    "    c = 7\n",
    "    return {'a' : a, 'b' : b, 'c' : c}\n",
    "return_value = f()\n",
    "print(return_value)"
   ]
  },
  {
   "cell_type": "code",
   "execution_count": 55,
   "metadata": {},
   "outputs": [
    {
     "name": "stdout",
     "output_type": "stream",
     "text": [
      "Values inside the function before change:  [10, 20, 30]\n",
      "Values inside the function after change:  [10, 20, 50]\n",
      "Values outside the function:  [10, 20, 50]\n"
     ]
    }
   ],
   "source": [
    "def changeme( mylist ):\n",
    "   \"This changes a passed list into this function\"\n",
    "   print (\"Values inside the function before change: \", mylist)\n",
    "   mylist[2]=50\n",
    "   print (\"Values inside the function after change: \", mylist)\n",
    "   return\n",
    "\n",
    "# Now you can call changeme function\n",
    "mylist = [10,20,30]\n",
    "changeme( mylist )\n",
    "print (\"Values outside the function: \", mylist)"
   ]
  },
  {
   "cell_type": "code",
   "execution_count": 57,
   "metadata": {},
   "outputs": [
    {
     "name": "stdout",
     "output_type": "stream",
     "text": [
      "Values inside the function:  [1, 2, 3, 4]\n",
      "Values outside the function:  [10, 20, 30]\n"
     ]
    }
   ],
   "source": [
    "def changeme( mylist ):\n",
    "   \"This changes a list passed to this function\"\n",
    "   mylist = [1,2,3,4] \n",
    "   print (\"Values inside the function: \", mylist)\n",
    "   return\n",
    "\n",
    "# Now you can call changeme function\n",
    "mylist = [10,20,30]\n",
    "changeme( mylist )\n",
    "print (\"Values outside the function: \", mylist)"
   ]
  },
  {
   "cell_type": "markdown",
   "metadata": {},
   "source": [
    "### Functions Are Objects"
   ]
  },
  {
   "cell_type": "code",
   "execution_count": 8,
   "metadata": {
    "collapsed": true
   },
   "outputs": [],
   "source": [
    "states = ['   Alabama ', 'Georgia!', 'Georgia'\n",
    "          , 'georgia', 'FlOrIda',\n",
    "          'south   carolina##', 'West virginia?']"
   ]
  },
  {
   "cell_type": "code",
   "execution_count": 9,
   "metadata": {
    "collapsed": true
   },
   "outputs": [],
   "source": [
    "import re\n",
    "\n",
    "def clean_strings(strings):\n",
    "    result = []\n",
    "    for value in strings:\n",
    "        value = value.strip()\n",
    "        value = re.sub('[!#?]', '', value)\n",
    "        value = value.title()\n",
    "        result.append(value)\n",
    "    return result"
   ]
  },
  {
   "cell_type": "code",
   "execution_count": 10,
   "metadata": {},
   "outputs": [
    {
     "data": {
      "text/plain": [
       "['Alabama',\n",
       " 'Georgia',\n",
       " 'Georgia',\n",
       " 'Georgia',\n",
       " 'Florida',\n",
       " 'South   Carolina',\n",
       " 'West Virginia']"
      ]
     },
     "execution_count": 10,
     "metadata": {},
     "output_type": "execute_result"
    }
   ],
   "source": [
    "clean_strings(states)"
   ]
  },
  {
   "cell_type": "code",
   "execution_count": 11,
   "metadata": {
    "collapsed": true
   },
   "outputs": [],
   "source": [
    "def remove_punctuation(value):\n",
    "    return re.sub('[!#?]', '', value)\n",
    "\n",
    "clean_ops = [str.strip, remove_punctuation, str.title]\n",
    "\n",
    "def clean_strings(strings, ops):\n",
    "    result = []\n",
    "    for value in strings:\n",
    "        for function in ops:\n",
    "            value = function(value)\n",
    "        result.append(value)\n",
    "    return result"
   ]
  },
  {
   "cell_type": "code",
   "execution_count": 12,
   "metadata": {},
   "outputs": [
    {
     "data": {
      "text/plain": [
       "['Alabama',\n",
       " 'Georgia',\n",
       " 'Georgia',\n",
       " 'Georgia',\n",
       " 'Florida',\n",
       " 'South   Carolina',\n",
       " 'West Virginia']"
      ]
     },
     "execution_count": 12,
     "metadata": {},
     "output_type": "execute_result"
    }
   ],
   "source": [
    "clean_strings(states, clean_ops)"
   ]
  },
  {
   "cell_type": "code",
   "execution_count": 13,
   "metadata": {},
   "outputs": [
    {
     "name": "stdout",
     "output_type": "stream",
     "text": [
      "   Alabama \n",
      "Georgia\n",
      "Georgia\n",
      "georgia\n",
      "FlOrIda\n",
      "south   carolina\n",
      "West virginia\n"
     ]
    }
   ],
   "source": [
    "for x in map(remove_punctuation, states):\n",
    "    print(x)"
   ]
  },
  {
   "cell_type": "code",
   "execution_count": 181,
   "metadata": {},
   "outputs": [
    {
     "data": {
      "text/plain": [
       "120"
      ]
     },
     "execution_count": 181,
     "metadata": {},
     "output_type": "execute_result"
    }
   ],
   "source": [
    "def factorial(n):\n",
    "    if n == 1:\n",
    "        return 1\n",
    "    else:\n",
    "        return n * factorial(n-1)\n",
    "factorial(5)"
   ]
  },
  {
   "cell_type": "code",
   "execution_count": 183,
   "metadata": {},
   "outputs": [
    {
     "data": {
      "text/plain": [
       "55"
      ]
     },
     "execution_count": 183,
     "metadata": {},
     "output_type": "execute_result"
    }
   ],
   "source": [
    "def fib(n):\n",
    "    if n == 0:\n",
    "        return 0\n",
    "    elif n == 1:\n",
    "        return 1\n",
    "    else:\n",
    "        return fib(n-1) + fib(n-2)\n",
    "fib(10)"
   ]
  },
  {
   "cell_type": "markdown",
   "metadata": {},
   "source": [
    "### Anonymous (Lambda) Functions"
   ]
  },
  {
   "cell_type": "code",
   "execution_count": 14,
   "metadata": {
    "collapsed": true
   },
   "outputs": [],
   "source": [
    "def short_function(x):\n",
    "    return x * 2\n",
    "\n",
    "equiv_anon = lambda x: x * 2"
   ]
  },
  {
   "cell_type": "code",
   "execution_count": 15,
   "metadata": {},
   "outputs": [
    {
     "data": {
      "text/plain": [
       "[8, 0, 2, 10, 12]"
      ]
     },
     "execution_count": 15,
     "metadata": {},
     "output_type": "execute_result"
    }
   ],
   "source": [
    "def apply_to_list(some_list, f):\n",
    "    return [f(x) for x in some_list]\n",
    "\n",
    "ints = [4, 0, 1, 5, 6]\n",
    "apply_to_list(ints, lambda x: x * 2)"
   ]
  },
  {
   "cell_type": "code",
   "execution_count": 16,
   "metadata": {
    "collapsed": true
   },
   "outputs": [],
   "source": [
    "strings = ['foo', 'card', 'bar', 'aaaa', 'abab']"
   ]
  },
  {
   "cell_type": "code",
   "execution_count": 17,
   "metadata": {},
   "outputs": [
    {
     "data": {
      "text/plain": [
       "['aaaa', 'foo', 'abab', 'bar', 'card']"
      ]
     },
     "execution_count": 17,
     "metadata": {},
     "output_type": "execute_result"
    }
   ],
   "source": [
    "strings.sort(key=lambda x: len(set(list(x))))\n",
    "strings"
   ]
  },
  {
   "cell_type": "code",
   "execution_count": 59,
   "metadata": {},
   "outputs": [
    {
     "name": "stdout",
     "output_type": "stream",
     "text": [
      "Value of total :  30\n",
      "Value of total :  40\n"
     ]
    }
   ],
   "source": [
    "sum = lambda arg1, arg2: arg1 + arg2\n",
    "\n",
    "\n",
    "# Now you can call sum as a function\n",
    "print (\"Value of total : \", sum( 10, 20 ))\n",
    "print (\"Value of total : \", sum( 20, 20 ))"
   ]
  },
  {
   "cell_type": "markdown",
   "metadata": {},
   "source": [
    "### Currying: Partial Argument Application"
   ]
  },
  {
   "cell_type": "code",
   "execution_count": 21,
   "metadata": {},
   "outputs": [
    {
     "data": {
      "text/plain": [
       "5"
      ]
     },
     "execution_count": 21,
     "metadata": {},
     "output_type": "execute_result"
    }
   ],
   "source": [
    "def add_numbers(x, y):\n",
    "    return x + y\n",
    "add_numbers(2,3)"
   ]
  },
  {
   "cell_type": "code",
   "execution_count": 22,
   "metadata": {},
   "outputs": [
    {
     "data": {
      "text/plain": [
       "7"
      ]
     },
     "execution_count": 22,
     "metadata": {},
     "output_type": "execute_result"
    }
   ],
   "source": [
    "add_five = lambda y: add_numbers(5, y)\n",
    "add_five(2)"
   ]
  },
  {
   "cell_type": "code",
   "execution_count": 30,
   "metadata": {},
   "outputs": [
    {
     "data": {
      "text/plain": [
       "8"
      ]
     },
     "execution_count": 30,
     "metadata": {},
     "output_type": "execute_result"
    }
   ],
   "source": [
    "from functools import partial\n",
    "add_five = partial(add_numbers,5)\n",
    "add_five(3)"
   ]
  },
  {
   "cell_type": "markdown",
   "metadata": {},
   "source": [
    "### Generators"
   ]
  },
  {
   "cell_type": "code",
   "execution_count": 35,
   "metadata": {},
   "outputs": [
    {
     "name": "stdout",
     "output_type": "stream",
     "text": [
      "a\n",
      "b\n",
      "c\n"
     ]
    }
   ],
   "source": [
    "some_dict = {'a': 1, 'b': 2, 'c': 3}\n",
    "for key in some_dict:\n",
    "    print(key)"
   ]
  },
  {
   "cell_type": "code",
   "execution_count": 63,
   "metadata": {},
   "outputs": [
    {
     "data": {
      "text/plain": [
       "<dict_keyiterator at 0x20bb46c2ef8>"
      ]
     },
     "execution_count": 63,
     "metadata": {},
     "output_type": "execute_result"
    },
    {
     "data": {
      "text/plain": [
       "<dict_valueiterator at 0x20bb46c2818>"
      ]
     },
     "execution_count": 63,
     "metadata": {},
     "output_type": "execute_result"
    }
   ],
   "source": [
    "dict_iterator_keys = iter(some_dict)\n",
    "dict_iterator_keys\n",
    "dict_iterator_vals = iter(some_dict.values())\n",
    "dict_iterator_vals"
   ]
  },
  {
   "cell_type": "code",
   "execution_count": 64,
   "metadata": {},
   "outputs": [
    {
     "data": {
      "text/plain": [
       "['a', 'b', 'c']"
      ]
     },
     "execution_count": 64,
     "metadata": {},
     "output_type": "execute_result"
    }
   ],
   "source": [
    "list(dict_iterator_keys)"
   ]
  },
  {
   "cell_type": "code",
   "execution_count": 65,
   "metadata": {
    "collapsed": true
   },
   "outputs": [],
   "source": [
    "def squares(n=10):\n",
    "    print('Generating squares from 1 to {0}'.format(n ** 2))\n",
    "    for i in range(1, n + 1):\n",
    "        yield i ** 2"
   ]
  },
  {
   "cell_type": "code",
   "execution_count": 68,
   "metadata": {},
   "outputs": [
    {
     "data": {
      "text/plain": [
       "<generator object squares at 0x0000020BB460E780>"
      ]
     },
     "execution_count": 68,
     "metadata": {},
     "output_type": "execute_result"
    }
   ],
   "source": [
    "gen = squares()\n",
    "gen"
   ]
  },
  {
   "cell_type": "code",
   "execution_count": 69,
   "metadata": {},
   "outputs": [
    {
     "name": "stdout",
     "output_type": "stream",
     "text": [
      "Generating squares from 1 to 100\n",
      "1 4 9 16 25 36 49 64 81 100 "
     ]
    }
   ],
   "source": [
    "for x in gen:\n",
    "    print(x, end=' ')"
   ]
  },
  {
   "cell_type": "markdown",
   "metadata": {},
   "source": [
    "#### Generator expresssions"
   ]
  },
  {
   "cell_type": "code",
   "execution_count": 70,
   "metadata": {},
   "outputs": [
    {
     "data": {
      "text/plain": [
       "<generator object <genexpr> at 0x0000020BB46A79E8>"
      ]
     },
     "execution_count": 70,
     "metadata": {},
     "output_type": "execute_result"
    }
   ],
   "source": [
    "gen = (x ** 2 for x in range(100))\n",
    "gen"
   ]
  },
  {
   "cell_type": "code",
   "execution_count": 71,
   "metadata": {
    "collapsed": true
   },
   "outputs": [],
   "source": [
    "def _make_gen():\n",
    "    for x in range(100):\n",
    "        yield x ** 2\n",
    "gen = _make_gen()"
   ]
  },
  {
   "cell_type": "code",
   "execution_count": 87,
   "metadata": {},
   "outputs": [
    {
     "data": {
      "text/plain": [
       "{0: 0, 1: 1, 2: 4, 3: 9, 4: 16}"
      ]
     },
     "execution_count": 87,
     "metadata": {},
     "output_type": "execute_result"
    }
   ],
   "source": [
    "dict((i, i **2) for i in range(5))"
   ]
  },
  {
   "cell_type": "markdown",
   "metadata": {},
   "source": [
    "#### itertools module"
   ]
  },
  {
   "cell_type": "code",
   "execution_count": 88,
   "metadata": {},
   "outputs": [
    {
     "name": "stdout",
     "output_type": "stream",
     "text": [
      "A ['Alan', 'Adam']\n",
      "W ['Wes', 'Will']\n",
      "A ['Albert']\n",
      "S ['Steven']\n"
     ]
    }
   ],
   "source": [
    "import itertools\n",
    "first_letter = lambda x: x[0]\n",
    "names = ['Alan', 'Adam', 'Wes', 'Will', 'Albert', 'Steven']\n",
    "for letter, nameGroups in itertools.groupby(names, first_letter):\n",
    "    print(letter, list(nameGroups)) # nameGroups is a generator"
   ]
  },
  {
   "cell_type": "code",
   "execution_count": 96,
   "metadata": {},
   "outputs": [
    {
     "data": {
      "text/plain": [
       "[(1, 2), (1, 3), (1, 4), (2, 3), (2, 4), (3, 4)]"
      ]
     },
     "execution_count": 96,
     "metadata": {},
     "output_type": "execute_result"
    },
    {
     "data": {
      "text/plain": [
       "[(1, 2, 3), (1, 2, 4), (1, 3, 4), (2, 3, 4)]"
      ]
     },
     "execution_count": 96,
     "metadata": {},
     "output_type": "execute_result"
    },
    {
     "data": {
      "text/plain": [
       "[(1, 2),\n",
       " (1, 3),\n",
       " (1, 4),\n",
       " (2, 1),\n",
       " (2, 3),\n",
       " (2, 4),\n",
       " (3, 1),\n",
       " (3, 2),\n",
       " (3, 4),\n",
       " (4, 1),\n",
       " (4, 2),\n",
       " (4, 3)]"
      ]
     },
     "execution_count": 96,
     "metadata": {},
     "output_type": "execute_result"
    },
    {
     "data": {
      "text/plain": [
       "[(1, 5), (1, 6), (2, 5), (2, 6), (3, 5), (3, 6), (4, 5), (4, 6)]"
      ]
     },
     "execution_count": 96,
     "metadata": {},
     "output_type": "execute_result"
    }
   ],
   "source": [
    "arr = [1, 2, 3, 4]\n",
    "arr2=[5,6]\n",
    "list(itertools.combinations(arr, 2))\n",
    "list(itertools.combinations(arr, 3))\n",
    "list(itertools.permutations(arr, 2))\n",
    "list(itertools.product(arr,arr2, repeat=1))"
   ]
  },
  {
   "cell_type": "markdown",
   "metadata": {},
   "source": [
    "### Errors and Exception Handling"
   ]
  },
  {
   "cell_type": "code",
   "execution_count": 97,
   "metadata": {},
   "outputs": [
    {
     "data": {
      "text/plain": [
       "1.2345"
      ]
     },
     "execution_count": 97,
     "metadata": {},
     "output_type": "execute_result"
    },
    {
     "ename": "ValueError",
     "evalue": "could not convert string to float: 'something'",
     "output_type": "error",
     "traceback": [
      "\u001b[1;31m---------------------------------------------------------------------------\u001b[0m",
      "\u001b[1;31mValueError\u001b[0m                                Traceback (most recent call last)",
      "\u001b[1;32m<ipython-input-97-61ae65397e11>\u001b[0m in \u001b[0;36m<module>\u001b[1;34m()\u001b[0m\n\u001b[0;32m      1\u001b[0m \u001b[0mfloat\u001b[0m\u001b[1;33m(\u001b[0m\u001b[1;34m'1.2345'\u001b[0m\u001b[1;33m)\u001b[0m\u001b[1;33m\u001b[0m\u001b[0m\n\u001b[1;32m----> 2\u001b[1;33m \u001b[0mfloat\u001b[0m\u001b[1;33m(\u001b[0m\u001b[1;34m'something'\u001b[0m\u001b[1;33m)\u001b[0m\u001b[1;33m\u001b[0m\u001b[0m\n\u001b[0m",
      "\u001b[1;31mValueError\u001b[0m: could not convert string to float: 'something'"
     ]
    }
   ],
   "source": [
    "float('1.2345')\n",
    "float('something')"
   ]
  },
  {
   "cell_type": "code",
   "execution_count": 98,
   "metadata": {
    "collapsed": true
   },
   "outputs": [],
   "source": [
    "def attempt_float(x):\n",
    "    try:\n",
    "        return float(x)\n",
    "    except:\n",
    "        return x"
   ]
  },
  {
   "cell_type": "code",
   "execution_count": 99,
   "metadata": {},
   "outputs": [
    {
     "data": {
      "text/plain": [
       "1.2345"
      ]
     },
     "execution_count": 99,
     "metadata": {},
     "output_type": "execute_result"
    },
    {
     "data": {
      "text/plain": [
       "'something'"
      ]
     },
     "execution_count": 99,
     "metadata": {},
     "output_type": "execute_result"
    }
   ],
   "source": [
    "attempt_float('1.2345')\n",
    "attempt_float('something')"
   ]
  },
  {
   "cell_type": "code",
   "execution_count": 101,
   "metadata": {},
   "outputs": [
    {
     "ename": "TypeError",
     "evalue": "float() argument must be a string or a number, not 'tuple'",
     "output_type": "error",
     "traceback": [
      "\u001b[1;31m---------------------------------------------------------------------------\u001b[0m",
      "\u001b[1;31mTypeError\u001b[0m                                 Traceback (most recent call last)",
      "\u001b[1;32m<ipython-input-101-842079ebb635>\u001b[0m in \u001b[0;36m<module>\u001b[1;34m()\u001b[0m\n\u001b[1;32m----> 1\u001b[1;33m \u001b[0mfloat\u001b[0m\u001b[1;33m(\u001b[0m\u001b[1;33m(\u001b[0m\u001b[1;36m1\u001b[0m\u001b[1;33m,\u001b[0m \u001b[1;36m2\u001b[0m\u001b[1;33m)\u001b[0m\u001b[1;33m)\u001b[0m\u001b[1;33m\u001b[0m\u001b[0m\n\u001b[0m",
      "\u001b[1;31mTypeError\u001b[0m: float() argument must be a string or a number, not 'tuple'"
     ]
    }
   ],
   "source": [
    "float((1, 2))"
   ]
  },
  {
   "cell_type": "code",
   "execution_count": 102,
   "metadata": {
    "collapsed": true
   },
   "outputs": [],
   "source": [
    "def attempt_float(x):\n",
    "    try:\n",
    "        return float(x)\n",
    "    except ValueError:\n",
    "        return x"
   ]
  },
  {
   "cell_type": "code",
   "execution_count": 103,
   "metadata": {},
   "outputs": [
    {
     "ename": "TypeError",
     "evalue": "float() argument must be a string or a number, not 'tuple'",
     "output_type": "error",
     "traceback": [
      "\u001b[1;31m---------------------------------------------------------------------------\u001b[0m",
      "\u001b[1;31mTypeError\u001b[0m                                 Traceback (most recent call last)",
      "\u001b[1;32m<ipython-input-103-9bdfd730cead>\u001b[0m in \u001b[0;36m<module>\u001b[1;34m()\u001b[0m\n\u001b[1;32m----> 1\u001b[1;33m \u001b[0mattempt_float\u001b[0m\u001b[1;33m(\u001b[0m\u001b[1;33m(\u001b[0m\u001b[1;36m1\u001b[0m\u001b[1;33m,\u001b[0m \u001b[1;36m2\u001b[0m\u001b[1;33m)\u001b[0m\u001b[1;33m)\u001b[0m\u001b[1;33m\u001b[0m\u001b[0m\n\u001b[0m",
      "\u001b[1;32m<ipython-input-102-84efde0a7059>\u001b[0m in \u001b[0;36mattempt_float\u001b[1;34m(x)\u001b[0m\n\u001b[0;32m      1\u001b[0m \u001b[1;32mdef\u001b[0m \u001b[0mattempt_float\u001b[0m\u001b[1;33m(\u001b[0m\u001b[0mx\u001b[0m\u001b[1;33m)\u001b[0m\u001b[1;33m:\u001b[0m\u001b[1;33m\u001b[0m\u001b[0m\n\u001b[0;32m      2\u001b[0m     \u001b[1;32mtry\u001b[0m\u001b[1;33m:\u001b[0m\u001b[1;33m\u001b[0m\u001b[0m\n\u001b[1;32m----> 3\u001b[1;33m         \u001b[1;32mreturn\u001b[0m \u001b[0mfloat\u001b[0m\u001b[1;33m(\u001b[0m\u001b[0mx\u001b[0m\u001b[1;33m)\u001b[0m\u001b[1;33m\u001b[0m\u001b[0m\n\u001b[0m\u001b[0;32m      4\u001b[0m     \u001b[1;32mexcept\u001b[0m \u001b[0mValueError\u001b[0m\u001b[1;33m:\u001b[0m\u001b[1;33m\u001b[0m\u001b[0m\n\u001b[0;32m      5\u001b[0m         \u001b[1;32mreturn\u001b[0m \u001b[0mx\u001b[0m\u001b[1;33m\u001b[0m\u001b[0m\n",
      "\u001b[1;31mTypeError\u001b[0m: float() argument must be a string or a number, not 'tuple'"
     ]
    }
   ],
   "source": [
    "attempt_float((1, 2))"
   ]
  },
  {
   "cell_type": "code",
   "execution_count": 105,
   "metadata": {
    "collapsed": true
   },
   "outputs": [],
   "source": [
    "def attempt_float(x):\n",
    "    try:\n",
    "        return float(x)\n",
    "    except (TypeError, ValueError):\n",
    "        return x"
   ]
  },
  {
   "cell_type": "code",
   "execution_count": 107,
   "metadata": {
    "collapsed": true
   },
   "outputs": [],
   "source": [
    "f = open(path, 'w')\n",
    "\n",
    "try:\n",
    "    write_to_file(f)\n",
    "finally:\n",
    "    f.close()"
   ]
  },
  {
   "cell_type": "code",
   "execution_count": null,
   "metadata": {
    "collapsed": true
   },
   "outputs": [],
   "source": [
    "f = open(path, 'w')\n",
    "\n",
    "try:\n",
    "    write_to_file(f)\n",
    "except:\n",
    "    print('Failed')\n",
    "else:\n",
    "    print('Succeeded')\n",
    "finally:\n",
    "    f.close()"
   ]
  },
  {
   "cell_type": "markdown",
   "metadata": {},
   "source": [
    "#### Exceptions in IPython"
   ]
  },
  {
   "cell_type": "raw",
   "metadata": {},
   "source": [
    "In [10]: %run examples/ipython_bug.py\n",
    "---------------------------------------------------------------------------\n",
    "AssertionError                            Traceback (most recent call last)\n",
    "/home/wesm/code/pydata-book/examples/ipython_bug.py in <module>()\n",
    "     13     throws_an_exception()\n",
    "     14\n",
    "---> 15 calling_things()\n",
    "\n",
    "/home/wesm/code/pydata-book/examples/ipython_bug.py in calling_things()\n",
    "     11 def calling_things():\n",
    "     12     works_fine()\n",
    "---> 13     throws_an_exception()\n",
    "     14\n",
    "     15 calling_things()\n",
    "\n",
    "/home/wesm/code/pydata-book/examples/ipython_bug.py in throws_an_exception()\n",
    "      7     a = 5\n",
    "      8     b = 6\n",
    "----> 9     assert(a + b == 10)\n",
    "     10\n",
    "     11 def calling_things():\n",
    "\n",
    "AssertionError:"
   ]
  },
  {
   "cell_type": "markdown",
   "metadata": {},
   "source": [
    "## Files and the Operating System"
   ]
  },
  {
   "cell_type": "code",
   "execution_count": 1,
   "metadata": {
    "collapsed": true
   },
   "outputs": [],
   "source": [
    "path = 'data/data1.tsv'\n",
    "f = open(path)"
   ]
  },
  {
   "cell_type": "code",
   "execution_count": 138,
   "metadata": {
    "collapsed": true
   },
   "outputs": [],
   "source": [
    "for line in f:\n",
    "    pass"
   ]
  },
  {
   "cell_type": "code",
   "execution_count": 139,
   "metadata": {},
   "outputs": [
    {
     "data": {
      "text/plain": [
       "['SpecID\\tOrgid\\tLocid\\tSex\\tDate\\tAge',\n",
       " '23\\tSalmonella group D\\t6\\tM\\t01-01-05\\t0',\n",
       " '4\\tEnterococcus faecalis\\t2\\tF\\t01-01-05\\t31',\n",
       " '4\\tEscherichia coli\\t2\\tF\\t01-01-05\\t31',\n",
       " '4\\tEscherichia coli\\t2\\tM\\t01-01-05\\t69',\n",
       " '4\\tEscherichia coli\\t2\\tM\\t01-01-05\\t35',\n",
       " '4\\tStreptococcus agalactiae (Group B)\\t2\\tF\\t01-01-05\\t47',\n",
       " '60\\tAcinetobacter species\\t2\\tM\\t01-01-05\\t30',\n",
       " '60\\tStaphylococcus aureus\\t2\\tM\\t01-01-05\\t30']"
      ]
     },
     "execution_count": 139,
     "metadata": {},
     "output_type": "execute_result"
    }
   ],
   "source": [
    "lines = [x.rstrip() for x in open(path)]\n",
    "lines"
   ]
  },
  {
   "cell_type": "code",
   "execution_count": 140,
   "metadata": {
    "collapsed": true
   },
   "outputs": [],
   "source": [
    "f.close()"
   ]
  },
  {
   "cell_type": "code",
   "execution_count": 146,
   "metadata": {
    "collapsed": true
   },
   "outputs": [],
   "source": [
    "with open(path) as f:\n",
    "    lines = [x.rstrip() for x in f]"
   ]
  },
  {
   "cell_type": "code",
   "execution_count": 154,
   "metadata": {},
   "outputs": [
    {
     "data": {
      "text/plain": [
       "b'SpecID\\tOrg'"
      ]
     },
     "execution_count": 154,
     "metadata": {},
     "output_type": "execute_result"
    },
    {
     "data": {
      "text/plain": [
       "'SpecID\\tOrg'"
      ]
     },
     "execution_count": 154,
     "metadata": {},
     "output_type": "execute_result"
    }
   ],
   "source": [
    "f = open(path)\n",
    "#f.readlines(40) disables the tell function\n",
    "f2 = open(path, 'rb')  # Binary mode\n",
    "f2.read(10)\n",
    "f.read(10)"
   ]
  },
  {
   "cell_type": "code",
   "execution_count": 155,
   "metadata": {},
   "outputs": [
    {
     "data": {
      "text/plain": [
       "10"
      ]
     },
     "execution_count": 155,
     "metadata": {},
     "output_type": "execute_result"
    },
    {
     "data": {
      "text/plain": [
       "10"
      ]
     },
     "execution_count": 155,
     "metadata": {},
     "output_type": "execute_result"
    }
   ],
   "source": [
    "f.tell()\n",
    "f2.tell()"
   ]
  },
  {
   "cell_type": "code",
   "execution_count": 156,
   "metadata": {},
   "outputs": [
    {
     "data": {
      "text/plain": [
       "'utf-8'"
      ]
     },
     "execution_count": 156,
     "metadata": {},
     "output_type": "execute_result"
    }
   ],
   "source": [
    "import sys\n",
    "sys.getdefaultencoding()"
   ]
  },
  {
   "cell_type": "code",
   "execution_count": 157,
   "metadata": {},
   "outputs": [
    {
     "data": {
      "text/plain": [
       "3"
      ]
     },
     "execution_count": 157,
     "metadata": {},
     "output_type": "execute_result"
    },
    {
     "data": {
      "text/plain": [
       "'c'"
      ]
     },
     "execution_count": 157,
     "metadata": {},
     "output_type": "execute_result"
    }
   ],
   "source": [
    "f.seek(3)\n",
    "f.read(1)"
   ]
  },
  {
   "cell_type": "code",
   "execution_count": 158,
   "metadata": {
    "collapsed": true
   },
   "outputs": [],
   "source": [
    "f.close()\n",
    "f2.close()"
   ]
  },
  {
   "cell_type": "code",
   "execution_count": 159,
   "metadata": {},
   "outputs": [
    {
     "data": {
      "text/plain": [
       "['SpecID\\tOrgid\\tLocid\\tSex\\tDate\\tAge\\n',\n",
       " '23\\tSalmonella group D\\t6\\tM\\t01-01-05\\t0\\n',\n",
       " '4\\tEnterococcus faecalis\\t2\\tF\\t01-01-05\\t31\\n',\n",
       " '4\\tEscherichia coli\\t2\\tF\\t01-01-05\\t31\\n',\n",
       " '4\\tEscherichia coli\\t2\\tM\\t01-01-05\\t69\\n',\n",
       " '4\\tEscherichia coli\\t2\\tM\\t01-01-05\\t35\\n',\n",
       " '4\\tStreptococcus agalactiae (Group B)\\t2\\tF\\t01-01-05\\t47\\n',\n",
       " '60\\tAcinetobacter species\\t2\\tM\\t01-01-05\\t30\\n',\n",
       " '60\\tStaphylococcus aureus\\t2\\tM\\t01-01-05\\t30']"
      ]
     },
     "execution_count": 159,
     "metadata": {},
     "output_type": "execute_result"
    }
   ],
   "source": [
    "with open('data/tmp.txt', 'w') as handle:\n",
    "    handle.writelines(x for x in open(path) if len(x) > 1)\n",
    "with open('data/tmp.txt') as f:\n",
    "    lines = f.readlines()\n",
    "lines"
   ]
  },
  {
   "cell_type": "code",
   "execution_count": 160,
   "metadata": {
    "collapsed": true
   },
   "outputs": [],
   "source": [
    "import os\n",
    "os.remove('data/tmp.txt')"
   ]
  },
  {
   "cell_type": "markdown",
   "metadata": {},
   "source": [
    "### Bytes and Unicode with Files"
   ]
  },
  {
   "cell_type": "code",
   "execution_count": 2,
   "metadata": {},
   "outputs": [
    {
     "data": {
      "text/plain": [
       "b'SpecID\\tOrg'"
      ]
     },
     "execution_count": 2,
     "metadata": {},
     "output_type": "execute_result"
    }
   ],
   "source": [
    "with open(path, 'rb') as f:\n",
    "    data = f.read(10)\n",
    "data"
   ]
  },
  {
   "cell_type": "code",
   "execution_count": 3,
   "metadata": {},
   "outputs": [
    {
     "data": {
      "text/plain": [
       "'SpecID\\tOrg'"
      ]
     },
     "execution_count": 3,
     "metadata": {},
     "output_type": "execute_result"
    }
   ],
   "source": [
    "data.decode('utf8')"
   ]
  },
  {
   "cell_type": "code",
   "execution_count": 4,
   "metadata": {},
   "outputs": [
    {
     "name": "stdout",
     "output_type": "stream",
     "text": [
      "SpecID\tOrg\n"
     ]
    }
   ],
   "source": [
    "sink_path = 'data/sink.txt'\n",
    "with open(path) as source:\n",
    "    with open(sink_path, 'xt', encoding='iso-8859-1') as sink:\n",
    "        sink.write(source.read())\n",
    "with open(sink_path, encoding='iso-8859-1') as f:\n",
    "    print(f.read(10))"
   ]
  },
  {
   "cell_type": "code",
   "execution_count": 174,
   "metadata": {
    "collapsed": true
   },
   "outputs": [],
   "source": [
    "os.remove(sink_path)"
   ]
  },
  {
   "cell_type": "markdown",
   "metadata": {},
   "source": [
    "### JSON"
   ]
  },
  {
   "cell_type": "code",
   "execution_count": 250,
   "metadata": {},
   "outputs": [
    {
     "data": {
      "text/plain": [
       "dict"
      ]
     },
     "execution_count": 250,
     "metadata": {},
     "output_type": "execute_result"
    },
    {
     "data": {
      "text/plain": [
       "{'office': {'medical': [{'price': 75,\n",
       "    'room-number': 100,\n",
       "    'sq-ft': 50,\n",
       "    'use': 'reception'},\n",
       "   {'price': 75, 'room-number': 101, 'sq-ft': 250, 'use': 'waiting'},\n",
       "   {'price': 150, 'room-number': 102, 'sq-ft': 125, 'use': 'examination'}]},\n",
       " 'parking': {'location': 'premium', 'price': 750, 'style': 'covered'}}"
      ]
     },
     "execution_count": 250,
     "metadata": {},
     "output_type": "execute_result"
    }
   ],
   "source": [
    "import json\n",
    "jsonData = '{\"office\":{\"medical\":[{\"room-number\":100,\"use\":\"reception\",\"sq-ft\":50,\"price\":75},\\\n",
    "    {\"room-number\":101,\"use\":\"waiting\",\"sq-ft\":250,\"price\":75},\\\n",
    "    {\"room-number\":102,\"use\":\"examination\",\"sq-ft\":125,\"price\":150}]},\\\n",
    "    \"parking\":{\"location\":\"premium\",\"style\":\"covered\",\"price\":750}}'\n",
    "jsonToPython = json.loads(jsonData)\n",
    "type(jsonToPython)\n",
    "jsonToPython"
   ]
  },
  {
   "cell_type": "code",
   "execution_count": 251,
   "metadata": {},
   "outputs": [
    {
     "data": {
      "text/plain": [
       "{'medical': [{'price': 75,\n",
       "   'room-number': 100,\n",
       "   'sq-ft': 50,\n",
       "   'use': 'reception'},\n",
       "  {'price': 75, 'room-number': 101, 'sq-ft': 250, 'use': 'waiting'},\n",
       "  {'price': 150, 'room-number': 102, 'sq-ft': 125, 'use': 'examination'}]}"
      ]
     },
     "execution_count": 251,
     "metadata": {},
     "output_type": "execute_result"
    },
    {
     "data": {
      "text/plain": [
       "[{'price': 75, 'room-number': 100, 'sq-ft': 50, 'use': 'reception'},\n",
       " {'price': 75, 'room-number': 101, 'sq-ft': 250, 'use': 'waiting'},\n",
       " {'price': 150, 'room-number': 102, 'sq-ft': 125, 'use': 'examination'}]"
      ]
     },
     "execution_count": 251,
     "metadata": {},
     "output_type": "execute_result"
    },
    {
     "data": {
      "text/plain": [
       "{'price': 75, 'room-number': 100, 'sq-ft': 50, 'use': 'reception'}"
      ]
     },
     "execution_count": 251,
     "metadata": {},
     "output_type": "execute_result"
    },
    {
     "data": {
      "text/plain": [
       "75"
      ]
     },
     "execution_count": 251,
     "metadata": {},
     "output_type": "execute_result"
    }
   ],
   "source": [
    "jsonToPython['office']\n",
    "jsonToPython['office']['medical']\n",
    "jsonToPython['office']['medical'][0]\n",
    "jsonToPython['office']['medical'][0]['price']"
   ]
  },
  {
   "cell_type": "code",
   "execution_count": 221,
   "metadata": {},
   "outputs": [
    {
     "data": {
      "text/plain": [
       "'{\"name\": \"Bob\", \"age\": 44, \"isEmployed\": true}'"
      ]
     },
     "execution_count": 221,
     "metadata": {},
     "output_type": "execute_result"
    }
   ],
   "source": [
    "pythonDictionary = {'name':'Bob', 'age':44, 'isEmployed':True}\n",
    "dictionaryToJson = json.dumps(pythonDictionary)\n",
    "dictionaryToJson"
   ]
  },
  {
   "cell_type": "code",
   "execution_count": 222,
   "metadata": {},
   "outputs": [
    {
     "ename": "TypeError",
     "evalue": "Object of type 'Employee' is not JSON serializable",
     "output_type": "error",
     "traceback": [
      "\u001b[1;31m---------------------------------------------------------------------------\u001b[0m",
      "\u001b[1;31mTypeError\u001b[0m                                 Traceback (most recent call last)",
      "\u001b[1;32m<ipython-input-222-bb0a77d88bf7>\u001b[0m in \u001b[0;36m<module>\u001b[1;34m()\u001b[0m\n\u001b[0;32m      4\u001b[0m \u001b[1;33m\u001b[0m\u001b[0m\n\u001b[0;32m      5\u001b[0m \u001b[0mmanish\u001b[0m \u001b[1;33m=\u001b[0m \u001b[0mEmployee\u001b[0m\u001b[1;33m(\u001b[0m\u001b[1;34m'Manish'\u001b[0m\u001b[1;33m)\u001b[0m\u001b[1;33m\u001b[0m\u001b[0m\n\u001b[1;32m----> 6\u001b[1;33m \u001b[0mjsonManish\u001b[0m \u001b[1;33m=\u001b[0m \u001b[0mjson\u001b[0m\u001b[1;33m.\u001b[0m\u001b[0mdumps\u001b[0m\u001b[1;33m(\u001b[0m\u001b[0mmanish\u001b[0m\u001b[1;33m)\u001b[0m\u001b[1;33m\u001b[0m\u001b[0m\n\u001b[0m",
      "\u001b[1;32mC:\\Users\\gmanish\\AppData\\Local\\Continuum\\Anaconda\\envs\\py36\\lib\\json\\__init__.py\u001b[0m in \u001b[0;36mdumps\u001b[1;34m(obj, skipkeys, ensure_ascii, check_circular, allow_nan, cls, indent, separators, default, sort_keys, **kw)\u001b[0m\n\u001b[0;32m    229\u001b[0m         \u001b[0mcls\u001b[0m \u001b[1;32mis\u001b[0m \u001b[1;32mNone\u001b[0m \u001b[1;32mand\u001b[0m \u001b[0mindent\u001b[0m \u001b[1;32mis\u001b[0m \u001b[1;32mNone\u001b[0m \u001b[1;32mand\u001b[0m \u001b[0mseparators\u001b[0m \u001b[1;32mis\u001b[0m \u001b[1;32mNone\u001b[0m \u001b[1;32mand\u001b[0m\u001b[1;33m\u001b[0m\u001b[0m\n\u001b[0;32m    230\u001b[0m         default is None and not sort_keys and not kw):\n\u001b[1;32m--> 231\u001b[1;33m         \u001b[1;32mreturn\u001b[0m \u001b[0m_default_encoder\u001b[0m\u001b[1;33m.\u001b[0m\u001b[0mencode\u001b[0m\u001b[1;33m(\u001b[0m\u001b[0mobj\u001b[0m\u001b[1;33m)\u001b[0m\u001b[1;33m\u001b[0m\u001b[0m\n\u001b[0m\u001b[0;32m    232\u001b[0m     \u001b[1;32mif\u001b[0m \u001b[0mcls\u001b[0m \u001b[1;32mis\u001b[0m \u001b[1;32mNone\u001b[0m\u001b[1;33m:\u001b[0m\u001b[1;33m\u001b[0m\u001b[0m\n\u001b[0;32m    233\u001b[0m         \u001b[0mcls\u001b[0m \u001b[1;33m=\u001b[0m \u001b[0mJSONEncoder\u001b[0m\u001b[1;33m\u001b[0m\u001b[0m\n",
      "\u001b[1;32mC:\\Users\\gmanish\\AppData\\Local\\Continuum\\Anaconda\\envs\\py36\\lib\\json\\encoder.py\u001b[0m in \u001b[0;36mencode\u001b[1;34m(self, o)\u001b[0m\n\u001b[0;32m    197\u001b[0m         \u001b[1;31m# exceptions aren't as detailed.  The list call should be roughly\u001b[0m\u001b[1;33m\u001b[0m\u001b[1;33m\u001b[0m\u001b[0m\n\u001b[0;32m    198\u001b[0m         \u001b[1;31m# equivalent to the PySequence_Fast that ''.join() would do.\u001b[0m\u001b[1;33m\u001b[0m\u001b[1;33m\u001b[0m\u001b[0m\n\u001b[1;32m--> 199\u001b[1;33m         \u001b[0mchunks\u001b[0m \u001b[1;33m=\u001b[0m \u001b[0mself\u001b[0m\u001b[1;33m.\u001b[0m\u001b[0miterencode\u001b[0m\u001b[1;33m(\u001b[0m\u001b[0mo\u001b[0m\u001b[1;33m,\u001b[0m \u001b[0m_one_shot\u001b[0m\u001b[1;33m=\u001b[0m\u001b[1;32mTrue\u001b[0m\u001b[1;33m)\u001b[0m\u001b[1;33m\u001b[0m\u001b[0m\n\u001b[0m\u001b[0;32m    200\u001b[0m         \u001b[1;32mif\u001b[0m \u001b[1;32mnot\u001b[0m \u001b[0misinstance\u001b[0m\u001b[1;33m(\u001b[0m\u001b[0mchunks\u001b[0m\u001b[1;33m,\u001b[0m \u001b[1;33m(\u001b[0m\u001b[0mlist\u001b[0m\u001b[1;33m,\u001b[0m \u001b[0mtuple\u001b[0m\u001b[1;33m)\u001b[0m\u001b[1;33m)\u001b[0m\u001b[1;33m:\u001b[0m\u001b[1;33m\u001b[0m\u001b[0m\n\u001b[0;32m    201\u001b[0m             \u001b[0mchunks\u001b[0m \u001b[1;33m=\u001b[0m \u001b[0mlist\u001b[0m\u001b[1;33m(\u001b[0m\u001b[0mchunks\u001b[0m\u001b[1;33m)\u001b[0m\u001b[1;33m\u001b[0m\u001b[0m\n",
      "\u001b[1;32mC:\\Users\\gmanish\\AppData\\Local\\Continuum\\Anaconda\\envs\\py36\\lib\\json\\encoder.py\u001b[0m in \u001b[0;36miterencode\u001b[1;34m(self, o, _one_shot)\u001b[0m\n\u001b[0;32m    255\u001b[0m                 \u001b[0mself\u001b[0m\u001b[1;33m.\u001b[0m\u001b[0mkey_separator\u001b[0m\u001b[1;33m,\u001b[0m \u001b[0mself\u001b[0m\u001b[1;33m.\u001b[0m\u001b[0mitem_separator\u001b[0m\u001b[1;33m,\u001b[0m \u001b[0mself\u001b[0m\u001b[1;33m.\u001b[0m\u001b[0msort_keys\u001b[0m\u001b[1;33m,\u001b[0m\u001b[1;33m\u001b[0m\u001b[0m\n\u001b[0;32m    256\u001b[0m                 self.skipkeys, _one_shot)\n\u001b[1;32m--> 257\u001b[1;33m         \u001b[1;32mreturn\u001b[0m \u001b[0m_iterencode\u001b[0m\u001b[1;33m(\u001b[0m\u001b[0mo\u001b[0m\u001b[1;33m,\u001b[0m \u001b[1;36m0\u001b[0m\u001b[1;33m)\u001b[0m\u001b[1;33m\u001b[0m\u001b[0m\n\u001b[0m\u001b[0;32m    258\u001b[0m \u001b[1;33m\u001b[0m\u001b[0m\n\u001b[0;32m    259\u001b[0m def _make_iterencode(markers, _default, _encoder, _indent, _floatstr,\n",
      "\u001b[1;32mC:\\Users\\gmanish\\AppData\\Local\\Continuum\\Anaconda\\envs\\py36\\lib\\json\\encoder.py\u001b[0m in \u001b[0;36mdefault\u001b[1;34m(self, o)\u001b[0m\n\u001b[0;32m    178\u001b[0m         \"\"\"\n\u001b[0;32m    179\u001b[0m         raise TypeError(\"Object of type '%s' is not JSON serializable\" %\n\u001b[1;32m--> 180\u001b[1;33m                         o.__class__.__name__)\n\u001b[0m\u001b[0;32m    181\u001b[0m \u001b[1;33m\u001b[0m\u001b[0m\n\u001b[0;32m    182\u001b[0m     \u001b[1;32mdef\u001b[0m \u001b[0mencode\u001b[0m\u001b[1;33m(\u001b[0m\u001b[0mself\u001b[0m\u001b[1;33m,\u001b[0m \u001b[0mo\u001b[0m\u001b[1;33m)\u001b[0m\u001b[1;33m:\u001b[0m\u001b[1;33m\u001b[0m\u001b[0m\n",
      "\u001b[1;31mTypeError\u001b[0m: Object of type 'Employee' is not JSON serializable"
     ]
    }
   ],
   "source": [
    "class Employee(object):\n",
    "    def __init__(self, name):\n",
    "        self.name = name\n",
    "        \n",
    "manish = Employee('Manish')\n",
    "jsonManish = json.dumps(manish)"
   ]
  },
  {
   "cell_type": "code",
   "execution_count": 246,
   "metadata": {},
   "outputs": [
    {
     "data": {
      "text/plain": [
       "'{\"name\": \"Manish\"}'"
      ]
     },
     "execution_count": 246,
     "metadata": {},
     "output_type": "execute_result"
    },
    {
     "data": {
      "text/plain": [
       "'{\"name\": \"Manish\"}'"
      ]
     },
     "execution_count": 246,
     "metadata": {},
     "output_type": "execute_result"
    }
   ],
   "source": [
    "def jsonDefault(object):\n",
    "    return object.__dict__\n",
    "\n",
    "jsonManish = json.dumps(manish, default=jsonDefault)\n",
    "jsonManish\n",
    "jsonManish2 = json.dumps(manish, default=lambda x: x.__dict__)\n",
    "jsonManish2"
   ]
  },
  {
   "cell_type": "code",
   "execution_count": 252,
   "metadata": {},
   "outputs": [
    {
     "name": "stdout",
     "output_type": "stream",
     "text": [
      "{\"a\": 0, \"b\": 0, \"c\": 0}\n"
     ]
    }
   ],
   "source": [
    "#Sorting\n",
    "print(json.dumps({\"c\": 0, \"b\": 0, \"a\": 0}, sort_keys=True))"
   ]
  },
  {
   "cell_type": "code",
   "execution_count": 253,
   "metadata": {},
   "outputs": [
    {
     "data": {
      "text/plain": [
       "'[1,2,3,{\"4\":5,\"6\":7}]'"
      ]
     },
     "execution_count": 253,
     "metadata": {},
     "output_type": "execute_result"
    }
   ],
   "source": [
    "#Compact encoding\n",
    "json.dumps([1, 2, 3, {'4': 5, '6': 7}], separators=(',', ':'))"
   ]
  },
  {
   "cell_type": "code",
   "execution_count": 254,
   "metadata": {},
   "outputs": [
    {
     "name": "stdout",
     "output_type": "stream",
     "text": [
      "{\n",
      "    \"4\": 7,\n",
      "    \"6\": 5\n",
      "}\n"
     ]
    }
   ],
   "source": [
    "#Pretty printing:\n",
    "print(json.dumps({'6': 5, '4': 7}, sort_keys=True, indent=4))"
   ]
  },
  {
   "cell_type": "code",
   "execution_count": 255,
   "metadata": {},
   "outputs": [
    {
     "data": {
      "text/plain": [
       "(1+2j)"
      ]
     },
     "execution_count": 255,
     "metadata": {},
     "output_type": "execute_result"
    },
    {
     "data": {
      "text/plain": [
       "complex"
      ]
     },
     "execution_count": 255,
     "metadata": {},
     "output_type": "execute_result"
    }
   ],
   "source": [
    "#Specializing JSON object decoding:\n",
    "def as_complex(dct):\n",
    "    if '__complex__' in dct:\n",
    "        return complex(dct['real'], dct['imag'])\n",
    "    return dct\n",
    "var1=json.loads('{\"__complex__\": true, \"real\": 1, \"imag\": 2}',object_hook=as_complex)\n",
    "var1\n",
    "type(var1)"
   ]
  },
  {
   "cell_type": "code",
   "execution_count": 240,
   "metadata": {},
   "outputs": [
    {
     "data": {
      "text/plain": [
       "decimal.Decimal"
      ]
     },
     "execution_count": 240,
     "metadata": {},
     "output_type": "execute_result"
    },
    {
     "data": {
      "text/plain": [
       "Decimal('1.1')"
      ]
     },
     "execution_count": 240,
     "metadata": {},
     "output_type": "execute_result"
    },
    {
     "data": {
      "text/plain": [
       "float"
      ]
     },
     "execution_count": 240,
     "metadata": {},
     "output_type": "execute_result"
    },
    {
     "data": {
      "text/plain": [
       "1.1"
      ]
     },
     "execution_count": 240,
     "metadata": {},
     "output_type": "execute_result"
    }
   ],
   "source": [
    "import decimal\n",
    "var1=json.loads('1.1', parse_float=decimal.Decimal)\n",
    "type(var1)\n",
    "var1\n",
    "var2=json.loads('1.1')\n",
    "type(var2)\n",
    "var2"
   ]
  },
  {
   "cell_type": "code",
   "execution_count": 244,
   "metadata": {},
   "outputs": [
    {
     "name": "stdout",
     "output_type": "stream",
     "text": [
      "[{\"name\": \"Marc\"}, {\"name\": \"Rachel\"}]\n",
      "[{'name': 'Marc'}, {'name': 'Rachel'}]\n",
      "<__main__.Person object at 0x0000020BB5725860>\n",
      "Marc\n",
      "<__main__.Person object at 0x0000020BB5725978>\n",
      "Rachel\n"
     ]
    }
   ],
   "source": [
    "# Serialize\n",
    "class Person:\n",
    "    def __init__(self, name=None):\n",
    "        if name:\n",
    "            self.name = name\n",
    "\t\t\t\n",
    "people = [ Person('Marc'), Person('Rachel') ]\n",
    "\n",
    "s = json.dumps([p.__dict__ for p in people])\n",
    "print(s)\n",
    "\n",
    "# Deserialize\n",
    "clones = json.loads(s)\n",
    "print(clones)\n",
    "\n",
    "# Now give our clones some life\n",
    "for clone in clones:\n",
    "    p = Person()\n",
    "    p.__dict__ = clone\n",
    "    print(p)\n",
    "    print(p.name)"
   ]
  },
  {
   "cell_type": "code",
   "execution_count": 260,
   "metadata": {},
   "outputs": [
    {
     "name": "stdout",
     "output_type": "stream",
     "text": [
      "First attempt\n",
      "ERROR: keys must be a string\n",
      "Second attempt\n",
      "[{\"a\": \"A\", \"b\": [2, 4], \"c\": 3.0}]\n"
     ]
    }
   ],
   "source": [
    "import json\n",
    "\n",
    "data = [ { 'a':'A', 'b':(2, 4), 'c':3.0, ('d',):'D tuple' } ]\n",
    "\n",
    "print('First attempt')\n",
    "try:\n",
    "    print(json.dumps(data))\n",
    "except TypeError as err:\n",
    "    print('ERROR:', err)\n",
    "\n",
    "print('Second attempt')\n",
    "print(json.dumps(data, skipkeys=True))"
   ]
  },
  {
   "cell_type": "code",
   "execution_count": 276,
   "metadata": {},
   "outputs": [
    {
     "name": "stdout",
     "output_type": "stream",
     "text": [
      "First attempt\n",
      "ERROR: Object of type 'MyObj' is not JSON serializable\n",
      "default( <MyObj(instance value goes here)> )\n",
      "{\"__class__\":\"MyObj\",\n",
      "\"__module__\":\"__main__\",\n",
      "\"s\":\"instance value goes here\"}\n"
     ]
    }
   ],
   "source": [
    "class MyObj(object):\n",
    "    def __init__(self, s):\n",
    "        self.s = s\n",
    "    def __repr__(self):\n",
    "        return '<MyObj(%s)>' % self.s\n",
    "\n",
    "obj = MyObj('instance value goes here')\n",
    "print('First attempt')\n",
    "try:\n",
    "    print(json.dumps(obj))\n",
    "except TypeError as err:\n",
    "    print('ERROR:', err)\n",
    "\n",
    "def convert_to_builtin_type(obj):\n",
    "    print('default(', repr(obj), ')')\n",
    "    d = { '__class__':obj.__class__.__name__, \n",
    "          '__module__':obj.__module__,\n",
    "          }\n",
    "    d.update(obj.__dict__)\n",
    "    return d\n",
    "\n",
    "encoded_object = json.dumps(obj, default=convert_to_builtin_type\n",
    "                 ,separators=(',\\n', ':'))\n",
    "print(encoded_object)"
   ]
  },
  {
   "cell_type": "code",
   "execution_count": 284,
   "metadata": {},
   "outputs": [
    {
     "name": "stdout",
     "output_type": "stream",
     "text": [
      "MODULE: <module '__main__'>\n",
      "CLASS: <class '__main__.MyObj'>\n",
      "INSTANCE ARGS: {'s': 'instance value goes here'}\n",
      "<MyObj(instance value goes here)>\n"
     ]
    }
   ],
   "source": [
    "import json\n",
    "\n",
    "def dict_to_object(d):\n",
    "    if '__class__' in d:\n",
    "        class_name = d.pop('__class__')\n",
    "        module_name = d.pop('__module__')\n",
    "        module = __import__(module_name)\n",
    "        print('MODULE:', module)\n",
    "        class_ = getattr(module, class_name)\n",
    "        print('CLASS:', class_)\n",
    "        args = dict((key, value) for key, value in d.items())\n",
    "        print('INSTANCE ARGS:', args)\n",
    "        inst = class_(**args)\n",
    "    else:\n",
    "        inst = d\n",
    "    return inst\n",
    "\n",
    "myobj_instance = json.loads(encoded_object,\n",
    "                            object_hook=dict_to_object)\n",
    "print(myobj_instance)\n"
   ]
  },
  {
   "cell_type": "code",
   "execution_count": 286,
   "metadata": {},
   "outputs": [
    {
     "name": "stdout",
     "output_type": "stream",
     "text": [
      "PART: [\n",
      "PART: {\n",
      "PART: \"a\"\n",
      "PART: : \n",
      "PART: \"A\"\n",
      "PART: , \n",
      "PART: \"b\"\n",
      "PART: : \n",
      "PART: [2\n",
      "PART: , 4\n",
      "PART: ]\n",
      "PART: , \n",
      "PART: \"c\"\n",
      "PART: : \n",
      "PART: 3.0\n",
      "PART: }\n",
      "PART: ]\n"
     ]
    }
   ],
   "source": [
    "import json\n",
    "\n",
    "encoder = json.JSONEncoder()\n",
    "data = [ { 'a':'A', 'b':(2, 4), 'c':3.0 } ]\n",
    "\n",
    "for part in encoder.iterencode(data):\n",
    "    print('PART:', part)"
   ]
  },
  {
   "cell_type": "code",
   "execution_count": 292,
   "metadata": {},
   "outputs": [
    {
     "name": "stdout",
     "output_type": "stream",
     "text": [
      "<MyObj(internal data)>\n",
      "default( <MyObj(internal data)> )\n",
      "{\"__class__\": \"MyObj\", \"__module__\": \"__main__\", \"s\": \"internal data\"}\n"
     ]
    }
   ],
   "source": [
    "class MyEncoder(json.JSONEncoder):\n",
    "    \n",
    "    def default(self, obj):\n",
    "        print('default(', repr(obj), ')')\n",
    "        # Convert objects to a dictionary of their representation\n",
    "        d = { '__class__':obj.__class__.__name__, \n",
    "              '__module__':obj.__module__,\n",
    "              }\n",
    "        d.update(obj.__dict__)\n",
    "        return d\n",
    "\n",
    "obj = MyObj('internal data')\n",
    "print(obj)\n",
    "encoded_object=MyEncoder().encode(obj)\n",
    "print(encoded_object)"
   ]
  },
  {
   "cell_type": "code",
   "execution_count": 293,
   "metadata": {},
   "outputs": [
    {
     "name": "stdout",
     "output_type": "stream",
     "text": [
      "MODULE: <module '__main__'>\n",
      "CLASS: <class '__main__.MyObj'>\n",
      "INSTANCE ARGS: {'s': 'internal data'}\n",
      "<MyObj(internal data)>\n"
     ]
    }
   ],
   "source": [
    "class MyDecoder(json.JSONDecoder):\n",
    "    \n",
    "    def __init__(self):\n",
    "        json.JSONDecoder.__init__(self, object_hook=self.dict_to_object)\n",
    "\n",
    "    def dict_to_object(self, d):\n",
    "        if '__class__' in d:\n",
    "            class_name = d.pop('__class__')\n",
    "            module_name = d.pop('__module__')\n",
    "            module = __import__(module_name)\n",
    "            print('MODULE:', module)\n",
    "            class_ = getattr(module, class_name)\n",
    "            print('CLASS:', class_)\n",
    "            args = dict( (key, value) for key, value in d.items())\n",
    "            print('INSTANCE ARGS:', args)\n",
    "            inst = class_(**args)\n",
    "        else:\n",
    "            inst = d\n",
    "        return inst\n",
    "myobj_instance = MyDecoder().decode(encoded_object)\n",
    "print(myobj_instance)"
   ]
  },
  {
   "cell_type": "code",
   "execution_count": 304,
   "metadata": {},
   "outputs": [
    {
     "name": "stdout",
     "output_type": "stream",
     "text": [
      "[{\"a\": \"A\", \"b\": [2, 4], \"c\": 3.0}]\n",
      "[{'a': 'A', 'b': [2, 4], 'c': 3.0}]\n"
     ]
    }
   ],
   "source": [
    "import json\n",
    "data = [ { 'a':'A', 'b':(2, 4), 'c':3.0 } ]\n",
    "import json\n",
    "filename='data/data.txt'\n",
    "with open(filename, 'w') as outfile:\n",
    "    json.dump(data, outfile)\n",
    "print(open(filename, 'r').read())\n",
    "infile=open(filename, 'r')\n",
    "print(json.load(infile))"
   ]
  },
  {
   "cell_type": "code",
   "execution_count": 308,
   "metadata": {},
   "outputs": [
    {
     "name": "stdout",
     "output_type": "stream",
     "text": [
      "JSON first:\n",
      "Object              : [{'a': 'A', 'c': 3.0, 'b': [2, 4]}]\n",
      "End of parsed input : 35\n",
      "Remaining text      : ' This text is not JSON.'\n",
      "JSON embedded:\n",
      "ERROR: Expecting value: line 1 column 1 (char 0)\n"
     ]
    }
   ],
   "source": [
    "import json\n",
    "decoder = json.JSONDecoder()\n",
    "def get_decoded_and_remainder(input_data):\n",
    "    obj, end = decoder.raw_decode(input_data)\n",
    "    remaining = input_data[end:]\n",
    "    return (obj, end, remaining)\n",
    "encoded_object = '[{\"a\": \"A\", \"c\": 3.0, \"b\": [2, 4]}]'\n",
    "extra_text = 'This text is not JSON.'\n",
    "\n",
    "print('JSON first:')\n",
    "obj, end, remaining = get_decoded_and_remainder(' '\n",
    "        .join([encoded_object, extra_text]))\n",
    "print('Object              :', obj)\n",
    "print('End of parsed input :', end)\n",
    "print('Remaining text      :', repr(remaining))\n",
    "\n",
    "print('JSON embedded:')\n",
    "try:\n",
    "    obj, end, remaining = get_decoded_and_remainder(\n",
    "        ' '.join([extra_text, encoded_object, extra_text])\n",
    "        )\n",
    "except ValueError as err:\n",
    "    print('ERROR:', err)\n"
   ]
  },
  {
   "cell_type": "code",
   "execution_count": 2,
   "metadata": {},
   "outputs": [
    {
     "name": "stdout",
     "output_type": "stream",
     "text": [
      "{1: 'A', 2: 'B', 3: 'C', 4: 'D', 5: 'E'}\n"
     ]
    }
   ],
   "source": [
    "import pickle\n",
    "emp = {1:\"A\",2:\"B\",3:\"C\",4:\"D\",5:\"E\"}\n",
    "#pickle\n",
    "pickling_on = open(\"data/Emp.pickle\",\"wb\")\n",
    "pickle.dump(emp, pickling_on)\n",
    "pickling_on.close()\n",
    "#unpickle\n",
    "pickle_off = open(\"data/Emp.pickle\",\"rb\")\n",
    "emp2 = pickle.load(pickle_off)\n",
    "print(emp2)"
   ]
  },
  {
   "cell_type": "code",
   "execution_count": 3,
   "metadata": {},
   "outputs": [
    {
     "data": {
      "text/plain": [
       "4"
      ]
     },
     "execution_count": 3,
     "metadata": {},
     "output_type": "execute_result"
    }
   ],
   "source": [
    "pickle.HIGHEST_PROTOCOL"
   ]
  },
  {
   "cell_type": "code",
   "execution_count": 4,
   "metadata": {
    "collapsed": true
   },
   "outputs": [],
   "source": [
    "import bz2\n",
    "import cPickle as pickle\n",
    "sfile = bz2.BZ2File('data/smallerfile', 'w')\n",
    "pickle.dump(emp, sfile)"
   ]
  },
  {
   "cell_type": "code",
   "execution_count": 12,
   "metadata": {},
   "outputs": [
    {
     "data": {
      "text/plain": [
       "[1.0,\n",
       " 0.5403023058681398,\n",
       " -0.4161468365471424,\n",
       " -0.9899924966004454,\n",
       " -0.6536436208636119,\n",
       " 0.28366218546322625,\n",
       " 0.960170286650366,\n",
       " 0.7539022543433046,\n",
       " -0.14550003380861354,\n",
       " -0.9111302618846769]"
      ]
     },
     "execution_count": 12,
     "metadata": {},
     "output_type": "execute_result"
    }
   ],
   "source": [
    "import multiprocessing as mp\n",
    "from math import cos\n",
    "p = mp.Pool(2)\n",
    "p.map(cos, range(10))"
   ]
  },
  {
   "cell_type": "code",
   "execution_count": 14,
   "metadata": {},
   "outputs": [
    {
     "name": "stdout",
     "output_type": "stream",
     "text": [
      "Caught Pickling Error: Can't pickle <function <lambda> at 0x000001A805FD0488>: attribute lookup <lambda> on __main__ failed\n"
     ]
    }
   ],
   "source": [
    "try:\n",
    "    p.map(lambda x: 2**x, range(10))\n",
    "except pickle.PicklingError as perr:\n",
    "    print(\"Caught Pickling Error:\", perr)"
   ]
  },
  {
   "cell_type": "code",
   "execution_count": 15,
   "metadata": {
    "collapsed": true
   },
   "outputs": [],
   "source": [
    "import dill\n",
    "dill.dump(lambda x: x**2, open('data/dillfile','wb'))"
   ]
  },
  {
   "cell_type": "code",
   "execution_count": 16,
   "metadata": {},
   "outputs": [
    {
     "data": {
      "text/plain": [
       "[1, 2, 4, 8, 16, 32, 64, 128, 256, 512]"
      ]
     },
     "execution_count": 16,
     "metadata": {},
     "output_type": "execute_result"
    }
   ],
   "source": [
    "import pathos.multiprocessing as mp\n",
    "p = mp.Pool(2)\n",
    "p.map(lambda x: 2**x, range(10))"
   ]
  },
  {
   "cell_type": "markdown",
   "metadata": {},
   "source": [
    "### Modules"
   ]
  },
  {
   "cell_type": "code",
   "execution_count": null,
   "metadata": {
    "collapsed": true
   },
   "outputs": [],
   "source": [
    "import math\n",
    "content = dir(math)\n",
    "print (content)"
   ]
  },
  {
   "cell_type": "code",
   "execution_count": 178,
   "metadata": {},
   "outputs": [
    {
     "data": {
      "text/plain": [
       "dict_keys(['__name__', '__doc__', '__package__', '__loader__', '__spec__', '__builtin__', '__builtins__', '_ih', '_oh', '_dh', '_sh', 'In', 'Out', 'get_ipython', 'exit', 'quit', '_', '__', '___', '_i', '_ii', '_iii', '_i1', 'f', 'a', 'b', 'c', '_i2', 'return_value', '_i3', '_i4', 'states', '_i5', 're', 'clean_strings', '_i6', '_6', '_i7', '_7', '_i8', '_i9', '_i10', '_10', '_i11', 'remove_punctuation', 'clean_ops', '_i12', '_12', '_i13', 'x', '_i14', 'short_function', 'equiv_anon', '_i15', 'apply_to_list', 'ints', '_15', '_i16', 'strings', '_i17', '_17', '_i18', 'add_numbers', '_i19', 'add_five', '_i20', 'partial', '_i21', '_21', '_i22', '_22', '_i23', '_23', '_i24', '_24', '_i25', '_25', '_i26', '_i27', '_27', '_i28', '_i29', '_i30', '_30', '_i31', 'some_dict', 'key', '_i32', 'dict_iterator', '_32', '_i33', '_i34', '_i35', '_i36', '_36', '_i37', '_37', '_i38', 'squares', '_i39', 'gen', '_39', '_i40', '_i41', '_41', '_i42', '_make_gen', '_i43', '_43', '_i44', 'InteractiveShell', 'my_function', '_i45', '_45', '_i46', '_i47', '_47', '_i48', '_i49', '_49', '_i50', 'itertools', 'first_letter', 'names', 'letter', '_i51', 'nameGroups', '_i52', '_i53', '_i54', '_i55', 'changeme', 'mylist', '_i56', '_i57', '_i58', 'printinfo', '_i59', 'sum', '_i60', '_60', '_i61', '_61', '_i62', '_i63', 'dict_iterator_keys', '_63', 'dict_iterator_vals', '_i64', '_64', '_i65', '_i66', '_66', '_i67', '_i68', '_68', '_i69', '_i70', '_70', '_i71', '_i72', '_i73', '_i74', '_i75', '_i76', '_76', '_i77', '_i78', '_i79', '_i80', '_i81', '_i82', '_i83', '_i84', 'tup', '_i85', 'li', '_i86', '_86', '_i87', '_87', '_i88', '_i89', 'arr', '_i90', '_i91', '_91', '_i92', '_92', '_i93', '_93', '_i94', 'arr2', '_94', '_i95', '_95', '_i96', '_96', '_i97', '_97', '_i98', 'attempt_float', '_i99', '_99', '_i100', '_i101', '_i102', '_i103', '_i104', '_i105', '_i106', '_i107', '_i108', 'path', '_i109', 'line', '_i110', 'lines', '_110', '_i111', '_i112', '_i113', '_113', 'f2', '_i114', '_i115', '_i116', '_116', '_i117', '_i118', '_i119', '_119', '_i120', '_i121', '_i122', '_122', '_i123', '_123', '_i124', 'sys', '_124', '_i125', '_125', '_i126', '_i127', 'handle', '_127', '_i128', 'os', '_i129', 'chars', '_129', '_i130', 'data', '_130', '_i131', '_131', '_i132', 'sink_path', 'source', 'sink', '_132', '_i133', '_i134', '_134', '_i135', '_135', '_i136', '_i137', '_i138', '_i139', '_139', '_i140', '_i141', '_i142', '_142', '_i143', '_143', '_i144', '_144', '_i145', '_i146', '_i147', '_147', '_i148', '_i149', '_149', '_i150', '_150', '_i151', '_i152', '_152', '_i153', '_153', '_i154', '_154', '_i155', '_155', '_i156', '_156', '_i157', '_157', '_i158', '_i159', '_159', '_i160', '_i161', '_161', '_i162', '_162', '_i163', '_163', '_i164', '_164', '_i165', '_i166', '_166', '_i167', '_167', '_i168', '_168', '_i169', '_i170', '_i171', '_171', '_i172', '_172', '_i173', '_173', '_i174', '_i175', 'Money', 'AddMoney', '_i176', 'math', 'content', '_i177', '_177', '_i178'])"
      ]
     },
     "execution_count": 178,
     "metadata": {},
     "output_type": "execute_result"
    }
   ],
   "source": [
    "globals().keys()"
   ]
  },
  {
   "cell_type": "code",
   "execution_count": 179,
   "metadata": {
    "scrolled": true
   },
   "outputs": [
    {
     "data": {
      "text/plain": [
       "dict_keys(['__name__', '__doc__', '__package__', '__loader__', '__spec__', '__builtin__', '__builtins__', '_ih', '_oh', '_dh', '_sh', 'In', 'Out', 'get_ipython', 'exit', 'quit', '_', '__', '___', '_i', '_ii', '_iii', '_i1', 'f', 'a', 'b', 'c', '_i2', 'return_value', '_i3', '_i4', 'states', '_i5', 're', 'clean_strings', '_i6', '_6', '_i7', '_7', '_i8', '_i9', '_i10', '_10', '_i11', 'remove_punctuation', 'clean_ops', '_i12', '_12', '_i13', 'x', '_i14', 'short_function', 'equiv_anon', '_i15', 'apply_to_list', 'ints', '_15', '_i16', 'strings', '_i17', '_17', '_i18', 'add_numbers', '_i19', 'add_five', '_i20', 'partial', '_i21', '_21', '_i22', '_22', '_i23', '_23', '_i24', '_24', '_i25', '_25', '_i26', '_i27', '_27', '_i28', '_i29', '_i30', '_30', '_i31', 'some_dict', 'key', '_i32', 'dict_iterator', '_32', '_i33', '_i34', '_i35', '_i36', '_36', '_i37', '_37', '_i38', 'squares', '_i39', 'gen', '_39', '_i40', '_i41', '_41', '_i42', '_make_gen', '_i43', '_43', '_i44', 'InteractiveShell', 'my_function', '_i45', '_45', '_i46', '_i47', '_47', '_i48', '_i49', '_49', '_i50', 'itertools', 'first_letter', 'names', 'letter', '_i51', 'nameGroups', '_i52', '_i53', '_i54', '_i55', 'changeme', 'mylist', '_i56', '_i57', '_i58', 'printinfo', '_i59', 'sum', '_i60', '_60', '_i61', '_61', '_i62', '_i63', 'dict_iterator_keys', '_63', 'dict_iterator_vals', '_i64', '_64', '_i65', '_i66', '_66', '_i67', '_i68', '_68', '_i69', '_i70', '_70', '_i71', '_i72', '_i73', '_i74', '_i75', '_i76', '_76', '_i77', '_i78', '_i79', '_i80', '_i81', '_i82', '_i83', '_i84', 'tup', '_i85', 'li', '_i86', '_86', '_i87', '_87', '_i88', '_i89', 'arr', '_i90', '_i91', '_91', '_i92', '_92', '_i93', '_93', '_i94', 'arr2', '_94', '_i95', '_95', '_i96', '_96', '_i97', '_97', '_i98', 'attempt_float', '_i99', '_99', '_i100', '_i101', '_i102', '_i103', '_i104', '_i105', '_i106', '_i107', '_i108', 'path', '_i109', 'line', '_i110', 'lines', '_110', '_i111', '_i112', '_i113', '_113', 'f2', '_i114', '_i115', '_i116', '_116', '_i117', '_i118', '_i119', '_119', '_i120', '_i121', '_i122', '_122', '_i123', '_123', '_i124', 'sys', '_124', '_i125', '_125', '_i126', '_i127', 'handle', '_127', '_i128', 'os', '_i129', 'chars', '_129', '_i130', 'data', '_130', '_i131', '_131', '_i132', 'sink_path', 'source', 'sink', '_132', '_i133', '_i134', '_134', '_i135', '_135', '_i136', '_i137', '_i138', '_i139', '_139', '_i140', '_i141', '_i142', '_142', '_i143', '_143', '_i144', '_144', '_i145', '_i146', '_i147', '_147', '_i148', '_i149', '_149', '_i150', '_150', '_i151', '_i152', '_152', '_i153', '_153', '_i154', '_154', '_i155', '_155', '_i156', '_156', '_i157', '_157', '_i158', '_i159', '_159', '_i160', '_i161', '_161', '_i162', '_162', '_i163', '_163', '_i164', '_164', '_i165', '_i166', '_166', '_i167', '_167', '_i168', '_168', '_i169', '_i170', '_i171', '_171', '_i172', '_172', '_i173', '_173', '_i174', '_i175', 'Money', 'AddMoney', '_i176', 'math', 'content', '_i177', '_177', '_i178', '_178', '_i179'])"
      ]
     },
     "execution_count": 179,
     "metadata": {},
     "output_type": "execute_result"
    }
   ],
   "source": [
    "locals().keys()"
   ]
  },
  {
   "cell_type": "code",
   "execution_count": 185,
   "metadata": {},
   "outputs": [
    {
     "name": "stdout",
     "output_type": "stream",
     "text": [
      "Name :  Zara , Salary:  2000\n",
      "Name :  Manni , Salary:  5000\n",
      "Total Employee 2\n",
      "Employee.__doc__: Common base class for all employees\n",
      "Employee.__name__: Employee\n",
      "Employee.__module__: __main__\n",
      "Employee.__bases__: (<class 'object'>,)\n",
      "Employee.__dict__: {'__module__': '__main__', '__doc__': 'Common base class for all employees', 'empCount': 2, '__init__': <function Employee.__init__ at 0x0000020BB4706730>, 'displayCount': <function Employee.displayCount at 0x0000020BB47067B8>, 'displayEmployee': <function Employee.displayEmployee at 0x0000020BB4706400>, '__dict__': <attribute '__dict__' of 'Employee' objects>, '__weakref__': <attribute '__weakref__' of 'Employee' objects>}\n"
     ]
    }
   ],
   "source": [
    "class Employee:\n",
    "   'Common base class for all employees'\n",
    "   empCount = 0\n",
    "\n",
    "   def __init__(self, name, salary):\n",
    "      self.name = name\n",
    "      self.salary = salary\n",
    "      Employee.empCount += 1\n",
    "   \n",
    "   def displayCount(self):\n",
    "     print (\"Total Employee %d\" % Employee.empCount)\n",
    "\n",
    "   def displayEmployee(self):\n",
    "      print (\"Name : \", self.name,  \", Salary: \", self.salary)\n",
    "\n",
    "\n",
    "#This would create first object of Employee class\"\n",
    "emp1 = Employee(\"Zara\", 2000)\n",
    "#This would create second object of Employee class\"\n",
    "emp2 = Employee(\"Manni\", 5000)\n",
    "emp1.displayEmployee()\n",
    "emp2.displayEmployee()\n",
    "print (\"Total Employee %d\" % Employee.empCount)\n",
    "print (\"Employee.__doc__:\", Employee.__doc__)\n",
    "print (\"Employee.__name__:\", Employee.__name__)\n",
    "print (\"Employee.__module__:\", Employee.__module__)\n",
    "print (\"Employee.__bases__:\", Employee.__bases__)\n",
    "print (\"Employee.__dict__:\", Employee.__dict__ )"
   ]
  },
  {
   "cell_type": "code",
   "execution_count": 201,
   "metadata": {},
   "outputs": [
    {
     "name": "stdout",
     "output_type": "stream",
     "text": [
      "2249295168456 2249295168456 2249295168456\n",
      "Point destroyed\n"
     ]
    }
   ],
   "source": [
    "class Point:\n",
    "   def __init__( self, x=0, y=0):\n",
    "      self.x = x\n",
    "      self.y = y\n",
    "   def __del__(self):\n",
    "      class_name = self.__class__.__name__\n",
    "      print (class_name, \"destroyed\")\n",
    "\n",
    "pt1 = Point()\n",
    "pt2 = pt1\n",
    "pt3 = pt1\n",
    "print (id(pt1), id(pt2), id(pt3));   # prints the ids of the obejcts\n",
    "del pt1\n",
    "del pt2\n",
    "del pt3"
   ]
  },
  {
   "cell_type": "code",
   "execution_count": 202,
   "metadata": {},
   "outputs": [
    {
     "name": "stdout",
     "output_type": "stream",
     "text": [
      "Calling child constructor\n",
      "Calling child method\n",
      "Calling parent method\n",
      "Parent attribute : 200\n"
     ]
    }
   ],
   "source": [
    "class Parent:        # define parent class\n",
    "   parentAttr = 100\n",
    "   def __init__(self):\n",
    "      print (\"Calling parent constructor\")\n",
    "\n",
    "   def parentMethod(self):\n",
    "      print ('Calling parent method')\n",
    "\n",
    "   def setAttr(self, attr):\n",
    "      Parent.parentAttr = attr\n",
    "\n",
    "   def getAttr(self):\n",
    "      print (\"Parent attribute :\", Parent.parentAttr)\n",
    "\n",
    "class Child(Parent): # define child class\n",
    "   def __init__(self):\n",
    "      print (\"Calling child constructor\")\n",
    "\n",
    "   def childMethod(self):\n",
    "      print ('Calling child method')\n",
    "\n",
    "c = Child()          # instance of child\n",
    "c.childMethod()      # child calls its method\n",
    "c.parentMethod()     # calls parent's method\n",
    "c.setAttr(200)       # again call parent's method\n",
    "c.getAttr()          # again call parent's method"
   ]
  },
  {
   "cell_type": "code",
   "execution_count": 203,
   "metadata": {},
   "outputs": [
    {
     "name": "stdout",
     "output_type": "stream",
     "text": [
      "Calling child method\n"
     ]
    }
   ],
   "source": [
    "class Parent:        # define parent class\n",
    "   def myMethod(self):\n",
    "      print ('Calling parent method')\n",
    "\n",
    "class Child(Parent): # define child class\n",
    "   def myMethod(self):\n",
    "      print ('Calling child method')\n",
    "\n",
    "c = Child()          # instance of child\n",
    "c.myMethod()         # child calls overridden method"
   ]
  },
  {
   "cell_type": "code",
   "execution_count": 204,
   "metadata": {},
   "outputs": [
    {
     "name": "stdout",
     "output_type": "stream",
     "text": [
      "Vector (7, 8)\n"
     ]
    }
   ],
   "source": [
    "class Vector:\n",
    "   def __init__(self, a, b):\n",
    "      self.a = a\n",
    "      self.b = b\n",
    "\n",
    "   def __str__(self):\n",
    "      return 'Vector (%d, %d)' % (self.a, self.b)\n",
    "   \n",
    "   def __add__(self,other):\n",
    "      return Vector(self.a + other.a, self.b + other.b)\n",
    "\n",
    "v1 = Vector(2,10)\n",
    "v2 = Vector(5,-2)\n",
    "print (v1 + v2)"
   ]
  },
  {
   "cell_type": "code",
   "execution_count": 205,
   "metadata": {},
   "outputs": [
    {
     "name": "stdout",
     "output_type": "stream",
     "text": [
      "1\n",
      "2\n"
     ]
    },
    {
     "ename": "AttributeError",
     "evalue": "'JustCounter' object has no attribute '__secretCount'",
     "output_type": "error",
     "traceback": [
      "\u001b[1;31m---------------------------------------------------------------------------\u001b[0m",
      "\u001b[1;31mAttributeError\u001b[0m                            Traceback (most recent call last)",
      "\u001b[1;32m<ipython-input-205-f2ab5bb66623>\u001b[0m in \u001b[0;36m<module>\u001b[1;34m()\u001b[0m\n\u001b[0;32m      9\u001b[0m \u001b[0mcounter\u001b[0m\u001b[1;33m.\u001b[0m\u001b[0mcount\u001b[0m\u001b[1;33m(\u001b[0m\u001b[1;33m)\u001b[0m\u001b[1;33m\u001b[0m\u001b[0m\n\u001b[0;32m     10\u001b[0m \u001b[0mcounter\u001b[0m\u001b[1;33m.\u001b[0m\u001b[0mcount\u001b[0m\u001b[1;33m(\u001b[0m\u001b[1;33m)\u001b[0m\u001b[1;33m\u001b[0m\u001b[0m\n\u001b[1;32m---> 11\u001b[1;33m \u001b[0mprint\u001b[0m \u001b[1;33m(\u001b[0m\u001b[0mcounter\u001b[0m\u001b[1;33m.\u001b[0m\u001b[0m__secretCount\u001b[0m\u001b[1;33m)\u001b[0m\u001b[1;33m\u001b[0m\u001b[0m\n\u001b[0m",
      "\u001b[1;31mAttributeError\u001b[0m: 'JustCounter' object has no attribute '__secretCount'"
     ]
    }
   ],
   "source": [
    "class JustCounter:\n",
    "   __secretCount = 0\n",
    "  \n",
    "   def count(self):\n",
    "      self.__secretCount += 1\n",
    "      print (self.__secretCount)\n",
    "\n",
    "counter = JustCounter()\n",
    "counter.count()\n",
    "counter.count()\n",
    "print (counter.__secretCount)"
   ]
  },
  {
   "cell_type": "code",
   "execution_count": 206,
   "metadata": {},
   "outputs": [
    {
     "name": "stdout",
     "output_type": "stream",
     "text": [
      "1\n",
      "2\n",
      "2\n"
     ]
    }
   ],
   "source": [
    "class JustCounter:\n",
    "   __secretCount = 0\n",
    "  \n",
    "   def count(self):\n",
    "      self.__secretCount += 1\n",
    "      print (self.__secretCount)\n",
    "\n",
    "counter = JustCounter()\n",
    "counter.count()\n",
    "counter.count()\n",
    "#print (counter.__secretCount)\n",
    "print (counter._JustCounter__secretCount)"
   ]
  }
 ],
 "metadata": {
  "kernelspec": {
   "display_name": "Python 3",
   "language": "python",
   "name": "python3"
  },
  "language_info": {
   "codemirror_mode": {
    "name": "ipython",
    "version": 3
   },
   "file_extension": ".py",
   "mimetype": "text/x-python",
   "name": "python",
   "nbconvert_exporter": "python",
   "pygments_lexer": "ipython3",
   "version": "3.6.1"
  }
 },
 "nbformat": 4,
 "nbformat_minor": 1
}
